{
 "cells": [
  {
   "cell_type": "code",
   "execution_count": null,
   "metadata": {},
   "outputs": [],
   "source": [
    "# import data science libraries\n",
    "import pandas as pd\n",
    "import numpy as np\n",
    "import matplotlib.pyplot as plt\n",
    "import seaborn as sns\n",
    "\n",
    "# import machine learning libraries\n",
    "from sklearn.model_selection import train_test_split\n",
    "from sklearn.linear_model import LinearRegression\n",
    "from sklearn import metrics\n",
    "\n",
    "# import data from local csv file named source-data.csv\n",
    "df = pd.read_csv('source-data.csv')\n",
    "\n",
    "# print first 5 rows of data\n",
    "df.head()\n",
    "\n",
    "# a function to split data into training and testing sets and train the model using linear regression and logging metrics using mlflow library\n",
    "def train_model(df):\n",
    "    # split data into training and testing sets\n",
    "    X = df[['YearsExperience']]\n",
    "    y = df['Salary']\n",
    "    X_train, X_test, y_train, y_test = train_test_split(X, y, test_size=0.2, random_state=0)\n",
    "\n",
    "    # train the model using linear regression\n",
    "    regressor = LinearRegression()\n",
    "    regressor.fit(X_train, y_train)\n",
    "\n",
    "    # log metrics using mlflow library\n",
    "    mlflow.log_metric(\"r2_score\", metrics.r2_score(y_test, y_pred))\n",
    "    mlflow.log_metric(\"mean_absolute_error\", metrics.mean_absolute_error(y_test, y_pred))\n",
    "    mlflow.log_metric(\"mean_squared_error\", metrics.mean_squared_error(y_test, y_pred))\n",
    "    mlflow.log_metric(\"root_mean_squared_error\", np.sqrt(metrics.mean_squared_error(y_test, y_pred)))\n",
    "\n",
    "    # print the coefficients\n",
    "    print('Coefficients: \\n', regressor.coef_)\n",
    "\n",
    "    # plot the"
   ]
  }
 ],
 "metadata": {
  "language_info": {
   "name": "python"
  },
  "orig_nbformat": 4
 },
 "nbformat": 4,
 "nbformat_minor": 2
}
